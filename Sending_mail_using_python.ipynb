{
  "nbformat": 4,
  "nbformat_minor": 0,
  "metadata": {
    "colab": {
      "name": "Sending mail using python.ipynb",
      "provenance": [],
      "collapsed_sections": []
    },
    "kernelspec": {
      "name": "python3",
      "display_name": "Python 3"
    }
  },
  "cells": [
    {
      "cell_type": "markdown",
      "metadata": {
        "id": "lSuqk9qsrtU4",
        "colab_type": "text"
      },
      "source": [
        "#SMTP_SSL()"
      ]
    },
    {
      "cell_type": "code",
      "metadata": {
        "id": "couG1vEBSQPw",
        "colab_type": "code",
        "colab": {}
      },
      "source": [
        "\n",
        "\n",
        "\n",
        "import smtplib, ssl\n",
        "\n",
        "port = 465  # For SSL\n",
        "smtp_server = \"smtp.gmail.com\"\n",
        "sender_email = \"example_sender@gmail.com\"  # Enter your address\n",
        "receiver_email = \"example_receiver@gmail.com\"  # Enter receiver address\n",
        "password = input(\"Type your password and press enter: \")\n",
        "message = \"\"\"\\\n",
        "Subject: Subject1\n",
        "\n",
        "What is going on?\"\"\"\n",
        "\n",
        "context = ssl.create_default_context()\n",
        "with smtplib.SMTP_SSL(smtp_server, port, context=context) as server:\n",
        "    server.login(sender_email, password)\n",
        "    c=0\n",
        "    while(1==1): #Something like DoS attack\n",
        "      server.sendmail(sender_email, receiver_email, message)\n",
        "      c=c+1\n",
        "      print(c)\n",
        "print(\"Done\")"
      ],
      "execution_count": 0,
      "outputs": []
    },
    {
      "cell_type": "markdown",
      "metadata": {
        "id": "GjVSNttrrx3p",
        "colab_type": "text"
      },
      "source": [
        "#starttls()"
      ]
    },
    {
      "cell_type": "code",
      "metadata": {
        "id": "ASwEnsKGOH-E",
        "colab_type": "code",
        "colab": {}
      },
      "source": [
        "\n",
        "\n",
        "import smtplib, ssl\n",
        "\n",
        "port = 587  # For starttls\n",
        "smtp_server = \"smtp.gmail.com\"\n",
        "sender_email = \"my@gmail.com\"\n",
        "receiver_email = \"your@gmail.com\"\n",
        "password = input(\"Type your password and press enter:\")\n",
        "message = \"\"\"\\\n",
        "Subject: Hi there\n",
        "\n",
        "This message is sent from Python.\"\"\"\n",
        "\n",
        "context = ssl.create_default_context()\n",
        "with smtplib.SMTP(smtp_server, port) as server:\n",
        "    server.ehlo()  # Can be omitted\n",
        "    server.starttls(context=context)\n",
        "    server.ehlo()  # Can be omitted\n",
        "    server.login(sender_email, password)\n",
        "    server.sendmail(sender_email, receiver_email, message)"
      ],
      "execution_count": 0,
      "outputs": []
    },
    {
      "cell_type": "markdown",
      "metadata": {
        "id": "SEyX9pYIr1qd",
        "colab_type": "text"
      },
      "source": [
        "#Send HTML page with plain text"
      ]
    },
    {
      "cell_type": "code",
      "metadata": {
        "id": "HCSgBUYHb6Bj",
        "colab_type": "code",
        "colab": {}
      },
      "source": [
        "#Send HTML page with plain text\n",
        "\n",
        "import smtplib, ssl\n",
        "from email.mime.text import MIMEText\n",
        "from email.mime.multipart import MIMEMultipart\n",
        "\n",
        "sender_email = \"my@gmail.com\"\n",
        "receiver_email = \"your@gmail.com\"\n",
        "password = input(\"Type your password and press enter:\")\n",
        "\n",
        "message = MIMEMultipart(\"alternative\")\n",
        "message[\"Subject\"] = \"multipart test\"\n",
        "message[\"From\"] = sender_email\n",
        "message[\"To\"] = receiver_email\n",
        "\n",
        "# Create the plain-text and HTML version of your message\n",
        "text = \"\"\"\\\n",
        "Hi,\n",
        "How are you?\n",
        "Real Python has many great tutorials:\n",
        "www.realpython.com\"\"\"\n",
        "html = \"\"\"\\\n",
        "<html>\n",
        "  <body>\n",
        "    <p>Hi,<br>\n",
        "       How are you?<br>\n",
        "       <a href=\"http://www.realpython.com\">Real Python</a> \n",
        "       has many great tutorials.\n",
        "    </p>\n",
        "  </body>\n",
        "</html>\n",
        "\"\"\"\n",
        "\n",
        "# Turn these into plain/html MIMEText objects\n",
        "part1 = MIMEText(text, \"plain\")\n",
        "part2 = MIMEText(html, \"html\")\n",
        "\n",
        "# Add HTML/plain-text parts to MIMEMultipart message\n",
        "# The email client will try to render the last part first\n",
        "message.attach(part1)\n",
        "message.attach(part2)\n",
        "\n",
        "# Create secure connection with server and send email\n",
        "context = ssl.create_default_context()\n",
        "with smtplib.SMTP_SSL(\"smtp.gmail.com\", 465, context=context) as server:\n",
        "    server.login(sender_email, password)\n",
        "    server.sendmail(\n",
        "        sender_email, receiver_email, message.as_string()\n",
        "    )"
      ],
      "execution_count": 0,
      "outputs": []
    },
    {
      "cell_type": "markdown",
      "metadata": {
        "id": "flTLM_LBr6eJ",
        "colab_type": "text"
      },
      "source": [
        "#Send Attachments"
      ]
    },
    {
      "cell_type": "code",
      "metadata": {
        "id": "aBClMpwkhPGT",
        "colab_type": "code",
        "colab": {}
      },
      "source": [
        "\n",
        "\n",
        "import email, smtplib, ssl\n",
        "\n",
        "from email import encoders\n",
        "from email.mime.base import MIMEBase\n",
        "from email.mime.multipart import MIMEMultipart\n",
        "from email.mime.text import MIMEText\n",
        "\n",
        "subject = \"An email with attachment from Python\"\n",
        "body = \"This is an email with attachment sent from Python\"\n",
        "sender_email = \"my@gmail.com\"\n",
        "receiver_email = \"your@gmail.com\"\n",
        "password = input(\"Type your password and press enter:\")\n",
        "\n",
        "# Create a multipart message and set headers\n",
        "message = MIMEMultipart()\n",
        "message[\"From\"] = sender_email\n",
        "message[\"To\"] = receiver_email\n",
        "message[\"Subject\"] = subject\n",
        "message[\"Bcc\"] = receiver_email  # Recommended for mass emails\n",
        "\n",
        "# Add body to email\n",
        "message.attach(MIMEText(body, \"plain\"))\n",
        "\n",
        "filename = \"document.pdf\"  # In same directory as script\n",
        "\n",
        "# Open PDF file in binary mode\n",
        "with open(filename, \"rb\") as attachment:\n",
        "    # Add file as application/octet-stream\n",
        "    # Email client can usually download this automatically as attachment\n",
        "    part = MIMEBase(\"application\", \"octet-stream\")\n",
        "    part.set_payload(attachment.read())\n",
        "\n",
        "# Encode file in ASCII characters to send by email    \n",
        "encoders.encode_base64(part)\n",
        "\n",
        "# Add header as key/value pair to attachment part\n",
        "part.add_header(\n",
        "    \"Content-Disposition\",\n",
        "    f\"attachment; filename= {filename}\",\n",
        ")\n",
        "\n",
        "# Add attachment to message and convert message to string\n",
        "message.attach(part)\n",
        "text = message.as_string()\n",
        "\n",
        "# Log in to server using secure context and send email\n",
        "context = ssl.create_default_context()\n",
        "with smtplib.SMTP_SSL(\"smtp.gmail.com\", 465, context=context) as server:\n",
        "    server.login(sender_email, password)\n",
        "    server.sendmail(sender_email, receiver_email, text)"
      ],
      "execution_count": 0,
      "outputs": []
    },
    {
      "cell_type": "markdown",
      "metadata": {
        "id": "_T99a3f0sAqR",
        "colab_type": "text"
      },
      "source": [
        "#Sending mail to different ids reading from csv file."
      ]
    },
    {
      "cell_type": "code",
      "metadata": {
        "id": "LOSs9Jnnm79G",
        "colab_type": "code",
        "colab": {}
      },
      "source": [
        "\n",
        "\n",
        "import csv, smtplib, ssl\n",
        "\n",
        "message = \"\"\"Subject: Your grade\n",
        "\n",
        "Hi {name}, your grade is {grade}\"\"\"\n",
        "from_address = \"my@gmail.com\"\n",
        "password = input(\"Type your password and press enter: \")\n",
        "\n",
        "context = ssl.create_default_context()\n",
        "with smtplib.SMTP_SSL(\"smtp.gmail.com\", 465, context=context) as server:\n",
        "    server.login(from_address, password)\n",
        "    with open(\"example.csv\") as file:\n",
        "        reader = csv.reader(file)\n",
        "        next(reader)  # Skip header row\n",
        "        for name, email, grade in reader:\n",
        "            server.sendmail(\n",
        "                from_address,\n",
        "                email,\n",
        "                message.format(name=name,grade=grade),\n",
        "            )"
      ],
      "execution_count": 0,
      "outputs": []
    },
    {
      "cell_type": "markdown",
      "metadata": {
        "id": "LMC64uvBtjeg",
        "colab_type": "text"
      },
      "source": [
        "#Yagmail Library"
      ]
    },
    {
      "cell_type": "code",
      "metadata": {
        "id": "XqV1u3bPtmNh",
        "colab_type": "code",
        "colab": {}
      },
      "source": [
        "#other libraries: Envelopes, Yagmail, Flanker\n",
        "\n",
        "import yagmail\n",
        "\n",
        "receiver = \"your@gmail.com\"\n",
        "body = \"Hello there from Yagmail\"\n",
        "filename = \"document.pdf\"\n",
        "\n",
        "yag = yagmail.SMTP(\"my@gmail.com\")\n",
        "yag.send(\n",
        "    to=receiver,\n",
        "    subject=\"Yagmail test with attachment\",\n",
        "    contents=body, \n",
        "    attachments=filename,\n",
        ")"
      ],
      "execution_count": 0,
      "outputs": []
    }
  ]
}